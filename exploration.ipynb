{
 "cells": [
  {
   "cell_type": "code",
   "execution_count": 1,
   "metadata": {},
   "outputs": [],
   "source": [
    "#!\"C:\\Users\\Utilisateur\\AppData\\Local\\Programs\\Python\\Python311\\python.exe\" -m pip install nbformat"
   ]
  },
  {
   "cell_type": "code",
   "execution_count": 2,
   "metadata": {},
   "outputs": [],
   "source": [
    "from pyspark.sql import SparkSession\n",
    "from pyspark.sql.functions import when, avg, mean, round\n",
    "import plotly.express as px\n",
    "import numpy as np"
   ]
  },
  {
   "cell_type": "markdown",
   "metadata": {},
   "source": [
    "## - Initialisation de la session Spark -\n",
    "\n",
    "On vérifie également que le .csv est bien récupéré"
   ]
  },
  {
   "cell_type": "code",
   "execution_count": 3,
   "metadata": {},
   "outputs": [],
   "source": [
    "spark = SparkSession.builder.getOrCreate()"
   ]
  },
  {
   "cell_type": "code",
   "execution_count": 4,
   "metadata": {},
   "outputs": [
    {
     "name": "stdout",
     "output_type": "stream",
     "text": [
      "+----+--------+---------------+----------+---+--------------------+--------------------+------+--------------------+------------+-----------+-------------------+--------+---------------+------------------+------------------+-------------+---------+---------+-----------+--------------+--------------+--------------+--------------+------------------+------------------+--------------------+--------------------+--------------+--------------+-----------------+-----------------+-----------------+----------------+----------------+----------------+--------------------+--------------------+----------+-------------+\n",
      "|GAME|BlackElo|BlackRatingDiff|      Date|ECO|               Event|             Opening|Result|                Site| Termination|TimeControl|            UTCTime|WhiteElo|WhiteRatingDiff|Black_elo_category|White_elo_category|starting_time|increment|Game_type|Total_moves|Black_blunders|White_blunders|Black_mistakes|White_mistakes|Black_inaccuracies|White_inaccuracies|Black_inferior_moves|White_inferior_moves|Black_ts_moves|White_ts_moves|Black_ts_blunders|White_ts_blunders|Black_ts_mistakes|White_ts_mistake|Black_long_moves|White_long_moves|Black_bad_long_moves|White_bad_long_moves|Game_flips|Game_flips_ts|\n",
      "+----+--------+---------------+----------+---+--------------------+--------------------+------+--------------------+------------+-----------+-------------------+--------+---------------+------------------+------------------+-------------+---------+---------+-----------+--------------+--------------+--------------+--------------+------------------+------------------+--------------------+--------------------+--------------+--------------+-----------------+-----------------+-----------------+----------------+----------------+----------------+--------------------+--------------------+----------+-------------+\n",
      "|  11|    1143|              6|2020.09.01|A02|    Rated Blitz game|        Bird Opening|   0-1|https://lichess.o...|Time forfeit|      300+0|2024-12-11 00:00:00|    1180|             -7|        Low rating|        Low rating|          300|        0|    Blitz|         66|             4|             2|             0|             3|                 3|                 1|                   7|                   6|             8|             8|                0|                0|                0|               0|               2|               1|                   1|                   1|         8|            0|\n",
      "|  14|    1504|           NULL|2020.09.01|A04|    Rated Blitz game|        Réti Opening|   0-1|https://lichess.o...|      Normal|      300+0|2024-12-11 00:00:00|    1381|           NULL|        Low rating|        Low rating|          300|        0|    Blitz|         64|             2|             1|             1|             1|                 7|                 5|                  10|                   7|             0|             0|                0|                0|                0|               0|               0|               1|                   0|                   0|         6|            0|\n",
      "|  29|    1933|              1|2020.09.01|C41|    Rated Blitz game|    Philidor Defense|   0-1|https://lichess.o...|Time forfeit|      300+2|2024-12-11 00:00:00|    1485|             -1|       High rating|        Low rating|          300|        2|    Blitz|         70|             0|             1|             1|             2|                 8|                 8|                   9|                  11|             0|             2|                0|                0|                0|               0|               1|               1|                   1|                   0|         5|            0|\n",
      "|  40|    1710|             10|2020.09.01|B23|    Rated Blitz game|Sicilian Defense:...|   0-1|https://lichess.o...|      Normal|      180+2|2024-12-11 00:00:00|    2040|            -11|        Low rating|       High rating|          180|        2|    Blitz|         86|             4|             2|             1|             5|                 3|                 4|                   8|                  11|            18|             0|                4|                0|                0|               0|               3|               1|                   1|                   0|         8|            1|\n",
      "|  55|    1598|             -1|2020.09.01|B03|    Rated Rapid game|    Alekhine Defense|   1-0|https://lichess.o...|      Normal|      600+0|2024-12-11 00:00:00|    2163|              0|        Low rating|       High rating|          600|        0|    Rapid|         71|             1|             0|             1|             1|                 6|                 2|                   8|                   3|             0|             0|                0|                0|                0|               0|               0|               0|                   0|                   0|         2|            0|\n",
      "|  56|    2207|              4|2020.09.01|E32|    Rated Rapid game|Nimzo-Indian Defe...|   0-1|https://lichess.o...|      Normal|      600+0|2024-12-11 00:00:00|    2062|             -7|       High rating|       High rating|          600|        0|    Rapid|         73|             0|             1|             3|             5|                 3|                 4|                   6|                  10|             0|             0|                0|                0|                0|               0|               1|               1|                   0|                   1|         6|            0|\n",
      "|  70|    1632|             -5|2020.09.01|D00|   Rated Bullet game|   Queen's Pawn Game|   1-0|https://lichess.o...|      Normal|      120+1|2024-12-11 00:00:01|    1651|              5|        Low rating|        Low rating|          120|        1|   Bullet|         39|             1|             0|             1|             1|                 3|                 1|                   5|                   2|             0|             0|                0|                0|                0|               0|               0|               1|                   0|                   0|         3|            0|\n",
      "|  72|    1420|              5|2020.09.01|D00|   Rated Bullet game|Queen's Pawn Game...|   0-1|https://lichess.o...|Time forfeit|      120+1|2024-12-11 00:00:01|    1439|            -79|        Low rating|        Low rating|          120|        1|   Bullet|        110|             6|             6|             5|             4|                 3|                 5|                  14|                  15|             0|             3|                0|                0|                0|               0|               1|               2|                   1|                   1|        18|            0|\n",
      "| 162|     942|             -3|2020.09.01|C46|Rated Blitz tourn...|Four Knights Game...|   1-0|https://lichess.o...|      Normal|      240+2|2024-12-11 00:00:04|    1088|             23|        Low rating|        Low rating|          240|        2|    Blitz|         69|             7|             3|             4|             2|                 3|                 5|                  14|                  10|             0|             0|                0|                0|                0|               0|               1|               0|                   1|                   0|        13|            0|\n",
      "| 196|    1500|            180|2020.09.01|E73|Rated Rapid tourn...|King's Indian Def...|   0-1|https://lichess.o...|Time forfeit|      600+5|2024-12-11 00:00:05|    1559|             -5|        Low rating|        Low rating|          600|        5|    Rapid|         28|             0|             0|             1|             3|                 1|                 2|                   2|                   5|             0|             0|                0|                0|                0|               0|               3|               4|                   0|                   3|         3|            0|\n",
      "| 239|    1728|              4|2020.09.01|C00|    Rated Blitz game|French Defense: K...|   0-1|https://lichess.o...|      Normal|      300+0|2024-12-11 00:00:11|    1648|             -4|        Low rating|        Low rating|          300|        0|    Blitz|         52|             0|             2|             0|             1|                 0|                 1|                   0|                   4|             0|             0|                0|                0|                0|               0|               0|               0|                   0|                   0|         1|            0|\n",
      "| 244|    1346|             -5|2020.09.01|C47|    Rated Blitz game|Four Knights Game...|   1-0|https://lichess.o...|      Normal|      300+0|2024-12-11 00:00:11|    1336|            122|        Low rating|        Low rating|          300|        0|    Blitz|         39|             3|             1|             3|             0|                 1|                 3|                   7|                   4|             0|             0|                0|                0|                0|               0|               0|               0|                   0|                   0|         4|            0|\n",
      "| 253|    2018|             -6|2020.09.01|D00|Rated Rapid tourn...|   Queen's Pawn Game|   1-0|https://lichess.o...|      Normal|      600+0|2024-12-11 00:00:11|    2002|              7|       High rating|       High rating|          600|        0|    Rapid|         44|             1|             0|             2|             0|                 1|                 2|                   4|                   2|             0|             0|                0|                0|                0|               0|               0|               0|                   0|                   0|         2|            0|\n",
      "| 259|    2141|              8|2020.09.01|B00|Rated Rapid tourn...|Nimzowitsch Defen...|   0-1|https://lichess.o...|      Normal|      600+0|2024-12-11 00:00:11|    2075|             -9|       High rating|       High rating|          600|        0|    Rapid|         80|             0|             1|             0|             3|                 3|                 5|                   3|                   9|             0|             0|                0|                0|                0|               0|               1|               1|                   0|                   1|         3|            0|\n",
      "| 262|    1943|             -5|2020.09.01|B07|Rated Rapid tourn...|        Pirc Defense|   1-0|https://lichess.o...|      Normal|      600+0|2024-12-11 00:00:11|    1990|              5|       High rating|       High rating|          600|        0|    Rapid|         63|             3|             2|             3|             1|                 6|                 2|                  12|                   5|             0|             0|                0|                0|                0|               0|               0|               0|                   0|                   0|         2|            0|\n",
      "| 268|    1404|            -17|2020.09.01|B30|    Rated Rapid game|Sicilian Defense:...|   1-0|https://lichess.o...|      Normal|      600+5|2024-12-11 00:00:13|    1347|              7|        Low rating|        Low rating|          600|        5|    Rapid|         43|             3|             3|             6|             3|                 3|                 3|                  12|                   9|             0|             0|                0|                0|                0|               0|               0|               0|                   0|                   0|         8|            0|\n",
      "| 299|    2000|             -6|2020.09.01|C46|    Rated Blitz game|   Four Knights Game|   1-0|https://lichess.o...|      Normal|      180+0|2024-12-11 00:00:14|    1988|              6|       High rating|       High rating|          180|        0|    Blitz|         41|             2|             0|             2|             4|                 3|                 3|                   7|                   7|             0|             0|                0|                0|                0|               0|               0|               0|                   0|                   0|         4|            0|\n",
      "| 303|    1364|             24|2020.09.01|B21|    Rated Blitz game|Sicilian Defense:...|   0-1|https://lichess.o...|      Normal|      180+0|2024-12-11 00:00:05|    1330|             -5|        Low rating|        Low rating|          180|        0|    Blitz|         62|             2|             3|             8|             3|                 1|                 4|                  11|                  10|             0|             0|                0|                0|                0|               0|               1|               0|                   1|                   0|        20|            0|\n",
      "| 314|    1200|             -6|2020.09.01|A45|    Rated Blitz game|Indian Game: Pawn...|   1-0|https://lichess.o...|Time forfeit|      180+0|2024-12-11 00:00:05|    1152|              7|        Low rating|        Low rating|          180|        0|    Blitz|         71|             2|             3|             3|             2|                 7|                 3|                  12|                   8|            12|             0|                1|                0|                2|               0|               1|               0|                   1|                   0|         9|            2|\n",
      "| 316|    1950|             -5|2020.09.01|C44|Rated Classical game|Ponziani Opening:...|   1-0|https://lichess.o...|      Normal|     1800+0|2024-12-11 00:00:05|    1980|              6|       High rating|       High rating|         1800|        0|Classical|         73|             2|             0|             5|             7|                 3|                 2|                  10|                   9|             0|             0|                0|                0|                0|               0|               0|               0|                   0|                   0|         5|            0|\n",
      "+----+--------+---------------+----------+---+--------------------+--------------------+------+--------------------+------------+-----------+-------------------+--------+---------------+------------------+------------------+-------------+---------+---------+-----------+--------------+--------------+--------------+--------------+------------------+------------------+--------------------+--------------------+--------------+--------------+-----------------+-----------------+-----------------+----------------+----------------+----------------+--------------------+--------------------+----------+-------------+\n",
      "only showing top 20 rows\n",
      "\n"
     ]
    }
   ],
   "source": [
    "df = spark.read.csv(r\"Data/Sept_20_analysis.csv\", header=True, inferSchema=True) # inferSchema est pour cast automatiquement en int\n",
    "df.show()\n"
   ]
  },
  {
   "cell_type": "markdown",
   "metadata": {},
   "source": [
    "## - Q1 - \n",
    "\n",
    "### What is the rate of blunders, errors and inaccuracies per move, per level category (*) and on Blitz type games (Blitz type is by far the most played on these online sites). A game has two players, whose ELOs are most likely different. You will be able to classify a game into a category, either by considering the average ELO of both players, or by considering only the games where both players are in the same category\n",
    "\n",
    "Hypothèse : On peut largement imaginer que plus la partie a un niveau élevée, plus la proportion de mauvais coups va diminuer. Et cela même si on garde les parties désiquilibrées (on peut imaginer qu'un joueur bon peut toujours commetre des imprécisions contre un joueur excellent).\n",
    "\n",
    "Pour ça, on a d'abord choisi d'ajouter une colonne calculant la moyenne des ELOs des 2 joueurs. Nous pouvons alors classer la partie dans une des classes données en annexe (on a ajouté une classe Beginner qui correspondait à de nombreux cas et élargie la classe GMI) :  \n",
    "[0-1199] beginner  \n",
    "[1200-1499] occasional player  \n",
    "[1500-1799] good club player  \n",
    "[1800-1999] very good club player  \n",
    "[2000-2399] national and international level (IM)  \n",
    "[>2400] GMI, World Champions\n",
    "\n"
   ]
  },
  {
   "cell_type": "code",
   "execution_count": 5,
   "metadata": {},
   "outputs": [],
   "source": [
    "df = df.withColumn('MeanElo', (df.BlackElo + df.WhiteElo)/2)\n",
    "niveauPartie = {\"Beginner\" : 0,\n",
    "               \"Occasional\" : 1200,\n",
    "               \"Good\": 1500,\n",
    "               \"Very Good\" : 1800,\n",
    "               \"National\" : 2000,\n",
    "               \"GMI\": 2400}\n",
    "\n",
    "df = df.withColumn(\n",
    "    \"niveauPartie\",\n",
    "    when(df.MeanElo >= 2400, \"GMI\")\n",
    "    .when(df.MeanElo  >= 2000, \"National\")\n",
    "    .when(df.MeanElo  >= 1800, \"Very Good\")\n",
    "    .when(df.MeanElo  >= 1500, \"Good\")\n",
    "    .when(df.MeanElo  >= 1200, \"Occasional\")\n",
    "    .otherwise(\"Beginner\") # pour les ELOs < 1200\n",
    ")\n",
    "\n",
    "# order_map nous servira lorsqu'on ordonnera les classes pour que ca respecte le classement plutôt que l'ordre alphabétique\n",
    "order_map = {\n",
    "    'beginner': 1,\n",
    "    'ocasional': 2,\n",
    "    'good': 3,\n",
    "    'very good': 4,\n",
    "    'national': 5,\n",
    "    'GMI': 6\n",
    "}"
   ]
  },
  {
   "cell_type": "code",
   "execution_count": 6,
   "metadata": {},
   "outputs": [
    {
     "name": "stdout",
     "output_type": "stream",
     "text": [
      "+-------+------------------+------------------+------------------+------------+\n",
      "|summary|          BlackElo|          WhiteElo|           MeanElo|niveauPartie|\n",
      "+-------+------------------+------------------+------------------+------------+\n",
      "|  count|           3739909|           3739909|           3739909|     3739909|\n",
      "|   mean|1602.3001321689912|1601.5121897350978|1601.9061609520445|        NULL|\n",
      "| stddev| 343.5793362601174|343.58978967446455| 335.7342182609751|        NULL|\n",
      "|    min|               600|               600|             600.0|    Beginner|\n",
      "|    max|              3957|              3958|            3492.5|   Very Good|\n",
      "+-------+------------------+------------------+------------------+------------+\n",
      "\n",
      "+----+--------+---------------+----------+---+--------------------+--------------------+------+--------------------+------------+-----------+-------------------+--------+---------------+------------------+------------------+-------------+---------+---------+-----------+--------------+--------------+--------------+--------------+------------------+------------------+--------------------+--------------------+--------------+--------------+-----------------+-----------------+-----------------+----------------+----------------+----------------+--------------------+--------------------+----------+-------------+-------+------------+\n",
      "|GAME|BlackElo|BlackRatingDiff|      Date|ECO|               Event|             Opening|Result|                Site| Termination|TimeControl|            UTCTime|WhiteElo|WhiteRatingDiff|Black_elo_category|White_elo_category|starting_time|increment|Game_type|Total_moves|Black_blunders|White_blunders|Black_mistakes|White_mistakes|Black_inaccuracies|White_inaccuracies|Black_inferior_moves|White_inferior_moves|Black_ts_moves|White_ts_moves|Black_ts_blunders|White_ts_blunders|Black_ts_mistakes|White_ts_mistake|Black_long_moves|White_long_moves|Black_bad_long_moves|White_bad_long_moves|Game_flips|Game_flips_ts|MeanElo|niveauPartie|\n",
      "+----+--------+---------------+----------+---+--------------------+--------------------+------+--------------------+------------+-----------+-------------------+--------+---------------+------------------+------------------+-------------+---------+---------+-----------+--------------+--------------+--------------+--------------+------------------+------------------+--------------------+--------------------+--------------+--------------+-----------------+-----------------+-----------------+----------------+----------------+----------------+--------------------+--------------------+----------+-------------+-------+------------+\n",
      "|  11|    1143|              6|2020.09.01|A02|    Rated Blitz game|        Bird Opening|   0-1|https://lichess.o...|Time forfeit|      300+0|2024-12-11 00:00:00|    1180|             -7|        Low rating|        Low rating|          300|        0|    Blitz|         66|             4|             2|             0|             3|                 3|                 1|                   7|                   6|             8|             8|                0|                0|                0|               0|               2|               1|                   1|                   1|         8|            0| 1161.5|    Beginner|\n",
      "|  14|    1504|           NULL|2020.09.01|A04|    Rated Blitz game|        Réti Opening|   0-1|https://lichess.o...|      Normal|      300+0|2024-12-11 00:00:00|    1381|           NULL|        Low rating|        Low rating|          300|        0|    Blitz|         64|             2|             1|             1|             1|                 7|                 5|                  10|                   7|             0|             0|                0|                0|                0|               0|               0|               1|                   0|                   0|         6|            0| 1442.5|  Occasional|\n",
      "|  29|    1933|              1|2020.09.01|C41|    Rated Blitz game|    Philidor Defense|   0-1|https://lichess.o...|Time forfeit|      300+2|2024-12-11 00:00:00|    1485|             -1|       High rating|        Low rating|          300|        2|    Blitz|         70|             0|             1|             1|             2|                 8|                 8|                   9|                  11|             0|             2|                0|                0|                0|               0|               1|               1|                   1|                   0|         5|            0| 1709.0|        Good|\n",
      "|  40|    1710|             10|2020.09.01|B23|    Rated Blitz game|Sicilian Defense:...|   0-1|https://lichess.o...|      Normal|      180+2|2024-12-11 00:00:00|    2040|            -11|        Low rating|       High rating|          180|        2|    Blitz|         86|             4|             2|             1|             5|                 3|                 4|                   8|                  11|            18|             0|                4|                0|                0|               0|               3|               1|                   1|                   0|         8|            1| 1875.0|   Very Good|\n",
      "|  55|    1598|             -1|2020.09.01|B03|    Rated Rapid game|    Alekhine Defense|   1-0|https://lichess.o...|      Normal|      600+0|2024-12-11 00:00:00|    2163|              0|        Low rating|       High rating|          600|        0|    Rapid|         71|             1|             0|             1|             1|                 6|                 2|                   8|                   3|             0|             0|                0|                0|                0|               0|               0|               0|                   0|                   0|         2|            0| 1880.5|   Very Good|\n",
      "|  56|    2207|              4|2020.09.01|E32|    Rated Rapid game|Nimzo-Indian Defe...|   0-1|https://lichess.o...|      Normal|      600+0|2024-12-11 00:00:00|    2062|             -7|       High rating|       High rating|          600|        0|    Rapid|         73|             0|             1|             3|             5|                 3|                 4|                   6|                  10|             0|             0|                0|                0|                0|               0|               1|               1|                   0|                   1|         6|            0| 2134.5|    National|\n",
      "|  70|    1632|             -5|2020.09.01|D00|   Rated Bullet game|   Queen's Pawn Game|   1-0|https://lichess.o...|      Normal|      120+1|2024-12-11 00:00:01|    1651|              5|        Low rating|        Low rating|          120|        1|   Bullet|         39|             1|             0|             1|             1|                 3|                 1|                   5|                   2|             0|             0|                0|                0|                0|               0|               0|               1|                   0|                   0|         3|            0| 1641.5|        Good|\n",
      "|  72|    1420|              5|2020.09.01|D00|   Rated Bullet game|Queen's Pawn Game...|   0-1|https://lichess.o...|Time forfeit|      120+1|2024-12-11 00:00:01|    1439|            -79|        Low rating|        Low rating|          120|        1|   Bullet|        110|             6|             6|             5|             4|                 3|                 5|                  14|                  15|             0|             3|                0|                0|                0|               0|               1|               2|                   1|                   1|        18|            0| 1429.5|  Occasional|\n",
      "| 162|     942|             -3|2020.09.01|C46|Rated Blitz tourn...|Four Knights Game...|   1-0|https://lichess.o...|      Normal|      240+2|2024-12-11 00:00:04|    1088|             23|        Low rating|        Low rating|          240|        2|    Blitz|         69|             7|             3|             4|             2|                 3|                 5|                  14|                  10|             0|             0|                0|                0|                0|               0|               1|               0|                   1|                   0|        13|            0| 1015.0|    Beginner|\n",
      "| 196|    1500|            180|2020.09.01|E73|Rated Rapid tourn...|King's Indian Def...|   0-1|https://lichess.o...|Time forfeit|      600+5|2024-12-11 00:00:05|    1559|             -5|        Low rating|        Low rating|          600|        5|    Rapid|         28|             0|             0|             1|             3|                 1|                 2|                   2|                   5|             0|             0|                0|                0|                0|               0|               3|               4|                   0|                   3|         3|            0| 1529.5|        Good|\n",
      "+----+--------+---------------+----------+---+--------------------+--------------------+------+--------------------+------------+-----------+-------------------+--------+---------------+------------------+------------------+-------------+---------+---------+-----------+--------------+--------------+--------------+--------------+------------------+------------------+--------------------+--------------------+--------------+--------------+-----------------+-----------------+-----------------+----------------+----------------+----------------+--------------------+--------------------+----------+-------------+-------+------------+\n",
      "only showing top 10 rows\n",
      "\n"
     ]
    }
   ],
   "source": [
    "df.describe([\"BlackElo\", \"WhiteElo\", \"MeanElo\", \"niveauPartie\"]).show()\n",
    "df.show(10)"
   ]
  },
  {
   "cell_type": "markdown",
   "metadata": {},
   "source": [
    "On peut désormais ajouter la proportion de blunders, d'erreurs et d'imprécisions par coup. Cela consiste à additionner les blunders noirs et blancs (de même pour les erreurs et les imprécisions), puis à diviser le total par le nombre total de coups. Cela nous permet ainsi d'obtenir la proportion de blunders, d'erreurs et d'imprécisions."
   ]
  },
  {
   "cell_type": "code",
   "execution_count": 7,
   "metadata": {},
   "outputs": [],
   "source": [
    "df = df.withColumn('RateBlunders', (df.Black_blunders + df.White_blunders)/df.Total_moves)\n",
    "df = df.withColumn('RateMistakes', (df.Black_mistakes + df.White_mistakes)/df.Total_moves)\n",
    "df = df.withColumn('RateInnacuracies', (df.Black_inaccuracies + df.White_inaccuracies)/df.Total_moves)"
   ]
  },
  {
   "cell_type": "markdown",
   "metadata": {},
   "source": [
    "Maintenant qu'on a le DataFrame amélioré des classes représentant le niveaux des parties, on peut répondre à la problématique"
   ]
  },
  {
   "cell_type": "code",
   "execution_count": 8,
   "metadata": {},
   "outputs": [],
   "source": [
    "df_blitz = df.filter(df.Game_type == \"Blitz\")"
   ]
  },
  {
   "cell_type": "code",
   "execution_count": 9,
   "metadata": {},
   "outputs": [
    {
     "name": "stdout",
     "output_type": "stream",
     "text": [
      "+------------+------------+------------+---------------+------------+\n",
      "|niveauPartie|Rate Blunder|Rate Mistake|Rate Inaccuracy|niveau_order|\n",
      "+------------+------------+------------+---------------+------------+\n",
      "|    Beginner|       0.097|        0.11|          0.094|           1|\n",
      "|  Occasional|       0.076|       0.106|          0.094|           2|\n",
      "|        Good|       0.061|       0.099|          0.094|           3|\n",
      "|   Very Good|        0.05|       0.092|          0.091|           4|\n",
      "|    National|       0.041|       0.082|          0.085|           5|\n",
      "|         GMI|       0.032|       0.067|          0.075|           6|\n",
      "+------------+------------+------------+---------------+------------+\n",
      "\n"
     ]
    }
   ],
   "source": [
    "Q1 = df_blitz.groupby('niveauPartie').agg(\n",
    "    round(mean('RateBlunders'),3).alias(\"Rate Blunder\"),\n",
    "    round(mean('RateMistakes'),3).alias(\"Rate Mistake\"),\n",
    "    round(mean('RateInnacuracies'),3).alias(\"Rate Inaccuracy\")\n",
    ")\n",
    "\n",
    "Q1 = Q1.withColumn(\n",
    "    'niveau_order', \n",
    "    when(df.niveauPartie == 'Beginner', 1)\n",
    "    .when(df.niveauPartie == 'Occasional', 2)\n",
    "    .when(df.niveauPartie == 'Good', 3)\n",
    "    .when(df.niveauPartie == 'Very Good', 4)\n",
    "    .when(df.niveauPartie == 'National', 5)\n",
    "    .when(df.niveauPartie == 'GMI', 6)\n",
    ")\n",
    "\n",
    "# Trier selon l'ordre défini\n",
    "Q1 = Q1.orderBy('niveau_order')\n",
    "\n",
    "Q1.show()\n"
   ]
  },
  {
   "cell_type": "code",
   "execution_count": 10,
   "metadata": {},
   "outputs": [
    {
     "data": {
      "application/vnd.plotly.v1+json": {
       "config": {
        "plotlyServerURL": "https://plot.ly"
       },
       "data": [
        {
         "hovertemplate": "Type d'Erreur=Rate Blunder<br>Niveau de Partie=%{x}<br>Rate=%{y}<extra></extra>",
         "legendgroup": "Rate Blunder",
         "line": {
          "color": "#636efa",
          "dash": "solid"
         },
         "marker": {
          "symbol": "circle"
         },
         "mode": "lines",
         "name": "Rate Blunder",
         "orientation": "v",
         "showlegend": true,
         "type": "scatter",
         "x": [
          "Beginner",
          "Occasional",
          "Good",
          "Very Good",
          "National",
          "GMI"
         ],
         "xaxis": "x",
         "y": [
          0.097,
          0.076,
          0.061,
          0.05,
          0.041,
          0.032
         ],
         "yaxis": "y"
        },
        {
         "hovertemplate": "Type d'Erreur=Rate Mistake<br>Niveau de Partie=%{x}<br>Rate=%{y}<extra></extra>",
         "legendgroup": "Rate Mistake",
         "line": {
          "color": "#EF553B",
          "dash": "solid"
         },
         "marker": {
          "symbol": "circle"
         },
         "mode": "lines",
         "name": "Rate Mistake",
         "orientation": "v",
         "showlegend": true,
         "type": "scatter",
         "x": [
          "Beginner",
          "Occasional",
          "Good",
          "Very Good",
          "National",
          "GMI"
         ],
         "xaxis": "x",
         "y": [
          0.11,
          0.106,
          0.099,
          0.092,
          0.082,
          0.067
         ],
         "yaxis": "y"
        },
        {
         "hovertemplate": "Type d'Erreur=Rate Inaccuracy<br>Niveau de Partie=%{x}<br>Rate=%{y}<extra></extra>",
         "legendgroup": "Rate Inaccuracy",
         "line": {
          "color": "#00cc96",
          "dash": "solid"
         },
         "marker": {
          "symbol": "circle"
         },
         "mode": "lines",
         "name": "Rate Inaccuracy",
         "orientation": "v",
         "showlegend": true,
         "type": "scatter",
         "x": [
          "Beginner",
          "Occasional",
          "Good",
          "Very Good",
          "National",
          "GMI"
         ],
         "xaxis": "x",
         "y": [
          0.094,
          0.094,
          0.094,
          0.091,
          0.085,
          0.075
         ],
         "yaxis": "y"
        }
       ],
       "layout": {
        "legend": {
         "title": {
          "text": "Type d'Erreur"
         },
         "tracegroupgap": 0
        },
        "template": {
         "data": {
          "bar": [
           {
            "error_x": {
             "color": "#2a3f5f"
            },
            "error_y": {
             "color": "#2a3f5f"
            },
            "marker": {
             "line": {
              "color": "#E5ECF6",
              "width": 0.5
             },
             "pattern": {
              "fillmode": "overlay",
              "size": 10,
              "solidity": 0.2
             }
            },
            "type": "bar"
           }
          ],
          "barpolar": [
           {
            "marker": {
             "line": {
              "color": "#E5ECF6",
              "width": 0.5
             },
             "pattern": {
              "fillmode": "overlay",
              "size": 10,
              "solidity": 0.2
             }
            },
            "type": "barpolar"
           }
          ],
          "carpet": [
           {
            "aaxis": {
             "endlinecolor": "#2a3f5f",
             "gridcolor": "white",
             "linecolor": "white",
             "minorgridcolor": "white",
             "startlinecolor": "#2a3f5f"
            },
            "baxis": {
             "endlinecolor": "#2a3f5f",
             "gridcolor": "white",
             "linecolor": "white",
             "minorgridcolor": "white",
             "startlinecolor": "#2a3f5f"
            },
            "type": "carpet"
           }
          ],
          "choropleth": [
           {
            "colorbar": {
             "outlinewidth": 0,
             "ticks": ""
            },
            "type": "choropleth"
           }
          ],
          "contour": [
           {
            "colorbar": {
             "outlinewidth": 0,
             "ticks": ""
            },
            "colorscale": [
             [
              0,
              "#0d0887"
             ],
             [
              0.1111111111111111,
              "#46039f"
             ],
             [
              0.2222222222222222,
              "#7201a8"
             ],
             [
              0.3333333333333333,
              "#9c179e"
             ],
             [
              0.4444444444444444,
              "#bd3786"
             ],
             [
              0.5555555555555556,
              "#d8576b"
             ],
             [
              0.6666666666666666,
              "#ed7953"
             ],
             [
              0.7777777777777778,
              "#fb9f3a"
             ],
             [
              0.8888888888888888,
              "#fdca26"
             ],
             [
              1,
              "#f0f921"
             ]
            ],
            "type": "contour"
           }
          ],
          "contourcarpet": [
           {
            "colorbar": {
             "outlinewidth": 0,
             "ticks": ""
            },
            "type": "contourcarpet"
           }
          ],
          "heatmap": [
           {
            "colorbar": {
             "outlinewidth": 0,
             "ticks": ""
            },
            "colorscale": [
             [
              0,
              "#0d0887"
             ],
             [
              0.1111111111111111,
              "#46039f"
             ],
             [
              0.2222222222222222,
              "#7201a8"
             ],
             [
              0.3333333333333333,
              "#9c179e"
             ],
             [
              0.4444444444444444,
              "#bd3786"
             ],
             [
              0.5555555555555556,
              "#d8576b"
             ],
             [
              0.6666666666666666,
              "#ed7953"
             ],
             [
              0.7777777777777778,
              "#fb9f3a"
             ],
             [
              0.8888888888888888,
              "#fdca26"
             ],
             [
              1,
              "#f0f921"
             ]
            ],
            "type": "heatmap"
           }
          ],
          "heatmapgl": [
           {
            "colorbar": {
             "outlinewidth": 0,
             "ticks": ""
            },
            "colorscale": [
             [
              0,
              "#0d0887"
             ],
             [
              0.1111111111111111,
              "#46039f"
             ],
             [
              0.2222222222222222,
              "#7201a8"
             ],
             [
              0.3333333333333333,
              "#9c179e"
             ],
             [
              0.4444444444444444,
              "#bd3786"
             ],
             [
              0.5555555555555556,
              "#d8576b"
             ],
             [
              0.6666666666666666,
              "#ed7953"
             ],
             [
              0.7777777777777778,
              "#fb9f3a"
             ],
             [
              0.8888888888888888,
              "#fdca26"
             ],
             [
              1,
              "#f0f921"
             ]
            ],
            "type": "heatmapgl"
           }
          ],
          "histogram": [
           {
            "marker": {
             "pattern": {
              "fillmode": "overlay",
              "size": 10,
              "solidity": 0.2
             }
            },
            "type": "histogram"
           }
          ],
          "histogram2d": [
           {
            "colorbar": {
             "outlinewidth": 0,
             "ticks": ""
            },
            "colorscale": [
             [
              0,
              "#0d0887"
             ],
             [
              0.1111111111111111,
              "#46039f"
             ],
             [
              0.2222222222222222,
              "#7201a8"
             ],
             [
              0.3333333333333333,
              "#9c179e"
             ],
             [
              0.4444444444444444,
              "#bd3786"
             ],
             [
              0.5555555555555556,
              "#d8576b"
             ],
             [
              0.6666666666666666,
              "#ed7953"
             ],
             [
              0.7777777777777778,
              "#fb9f3a"
             ],
             [
              0.8888888888888888,
              "#fdca26"
             ],
             [
              1,
              "#f0f921"
             ]
            ],
            "type": "histogram2d"
           }
          ],
          "histogram2dcontour": [
           {
            "colorbar": {
             "outlinewidth": 0,
             "ticks": ""
            },
            "colorscale": [
             [
              0,
              "#0d0887"
             ],
             [
              0.1111111111111111,
              "#46039f"
             ],
             [
              0.2222222222222222,
              "#7201a8"
             ],
             [
              0.3333333333333333,
              "#9c179e"
             ],
             [
              0.4444444444444444,
              "#bd3786"
             ],
             [
              0.5555555555555556,
              "#d8576b"
             ],
             [
              0.6666666666666666,
              "#ed7953"
             ],
             [
              0.7777777777777778,
              "#fb9f3a"
             ],
             [
              0.8888888888888888,
              "#fdca26"
             ],
             [
              1,
              "#f0f921"
             ]
            ],
            "type": "histogram2dcontour"
           }
          ],
          "mesh3d": [
           {
            "colorbar": {
             "outlinewidth": 0,
             "ticks": ""
            },
            "type": "mesh3d"
           }
          ],
          "parcoords": [
           {
            "line": {
             "colorbar": {
              "outlinewidth": 0,
              "ticks": ""
             }
            },
            "type": "parcoords"
           }
          ],
          "pie": [
           {
            "automargin": true,
            "type": "pie"
           }
          ],
          "scatter": [
           {
            "fillpattern": {
             "fillmode": "overlay",
             "size": 10,
             "solidity": 0.2
            },
            "type": "scatter"
           }
          ],
          "scatter3d": [
           {
            "line": {
             "colorbar": {
              "outlinewidth": 0,
              "ticks": ""
             }
            },
            "marker": {
             "colorbar": {
              "outlinewidth": 0,
              "ticks": ""
             }
            },
            "type": "scatter3d"
           }
          ],
          "scattercarpet": [
           {
            "marker": {
             "colorbar": {
              "outlinewidth": 0,
              "ticks": ""
             }
            },
            "type": "scattercarpet"
           }
          ],
          "scattergeo": [
           {
            "marker": {
             "colorbar": {
              "outlinewidth": 0,
              "ticks": ""
             }
            },
            "type": "scattergeo"
           }
          ],
          "scattergl": [
           {
            "marker": {
             "colorbar": {
              "outlinewidth": 0,
              "ticks": ""
             }
            },
            "type": "scattergl"
           }
          ],
          "scattermapbox": [
           {
            "marker": {
             "colorbar": {
              "outlinewidth": 0,
              "ticks": ""
             }
            },
            "type": "scattermapbox"
           }
          ],
          "scatterpolar": [
           {
            "marker": {
             "colorbar": {
              "outlinewidth": 0,
              "ticks": ""
             }
            },
            "type": "scatterpolar"
           }
          ],
          "scatterpolargl": [
           {
            "marker": {
             "colorbar": {
              "outlinewidth": 0,
              "ticks": ""
             }
            },
            "type": "scatterpolargl"
           }
          ],
          "scatterternary": [
           {
            "marker": {
             "colorbar": {
              "outlinewidth": 0,
              "ticks": ""
             }
            },
            "type": "scatterternary"
           }
          ],
          "surface": [
           {
            "colorbar": {
             "outlinewidth": 0,
             "ticks": ""
            },
            "colorscale": [
             [
              0,
              "#0d0887"
             ],
             [
              0.1111111111111111,
              "#46039f"
             ],
             [
              0.2222222222222222,
              "#7201a8"
             ],
             [
              0.3333333333333333,
              "#9c179e"
             ],
             [
              0.4444444444444444,
              "#bd3786"
             ],
             [
              0.5555555555555556,
              "#d8576b"
             ],
             [
              0.6666666666666666,
              "#ed7953"
             ],
             [
              0.7777777777777778,
              "#fb9f3a"
             ],
             [
              0.8888888888888888,
              "#fdca26"
             ],
             [
              1,
              "#f0f921"
             ]
            ],
            "type": "surface"
           }
          ],
          "table": [
           {
            "cells": {
             "fill": {
              "color": "#EBF0F8"
             },
             "line": {
              "color": "white"
             }
            },
            "header": {
             "fill": {
              "color": "#C8D4E3"
             },
             "line": {
              "color": "white"
             }
            },
            "type": "table"
           }
          ]
         },
         "layout": {
          "annotationdefaults": {
           "arrowcolor": "#2a3f5f",
           "arrowhead": 0,
           "arrowwidth": 1
          },
          "autotypenumbers": "strict",
          "coloraxis": {
           "colorbar": {
            "outlinewidth": 0,
            "ticks": ""
           }
          },
          "colorscale": {
           "diverging": [
            [
             0,
             "#8e0152"
            ],
            [
             0.1,
             "#c51b7d"
            ],
            [
             0.2,
             "#de77ae"
            ],
            [
             0.3,
             "#f1b6da"
            ],
            [
             0.4,
             "#fde0ef"
            ],
            [
             0.5,
             "#f7f7f7"
            ],
            [
             0.6,
             "#e6f5d0"
            ],
            [
             0.7,
             "#b8e186"
            ],
            [
             0.8,
             "#7fbc41"
            ],
            [
             0.9,
             "#4d9221"
            ],
            [
             1,
             "#276419"
            ]
           ],
           "sequential": [
            [
             0,
             "#0d0887"
            ],
            [
             0.1111111111111111,
             "#46039f"
            ],
            [
             0.2222222222222222,
             "#7201a8"
            ],
            [
             0.3333333333333333,
             "#9c179e"
            ],
            [
             0.4444444444444444,
             "#bd3786"
            ],
            [
             0.5555555555555556,
             "#d8576b"
            ],
            [
             0.6666666666666666,
             "#ed7953"
            ],
            [
             0.7777777777777778,
             "#fb9f3a"
            ],
            [
             0.8888888888888888,
             "#fdca26"
            ],
            [
             1,
             "#f0f921"
            ]
           ],
           "sequentialminus": [
            [
             0,
             "#0d0887"
            ],
            [
             0.1111111111111111,
             "#46039f"
            ],
            [
             0.2222222222222222,
             "#7201a8"
            ],
            [
             0.3333333333333333,
             "#9c179e"
            ],
            [
             0.4444444444444444,
             "#bd3786"
            ],
            [
             0.5555555555555556,
             "#d8576b"
            ],
            [
             0.6666666666666666,
             "#ed7953"
            ],
            [
             0.7777777777777778,
             "#fb9f3a"
            ],
            [
             0.8888888888888888,
             "#fdca26"
            ],
            [
             1,
             "#f0f921"
            ]
           ]
          },
          "colorway": [
           "#636efa",
           "#EF553B",
           "#00cc96",
           "#ab63fa",
           "#FFA15A",
           "#19d3f3",
           "#FF6692",
           "#B6E880",
           "#FF97FF",
           "#FECB52"
          ],
          "font": {
           "color": "#2a3f5f"
          },
          "geo": {
           "bgcolor": "white",
           "lakecolor": "white",
           "landcolor": "#E5ECF6",
           "showlakes": true,
           "showland": true,
           "subunitcolor": "white"
          },
          "hoverlabel": {
           "align": "left"
          },
          "hovermode": "closest",
          "mapbox": {
           "style": "light"
          },
          "paper_bgcolor": "white",
          "plot_bgcolor": "#E5ECF6",
          "polar": {
           "angularaxis": {
            "gridcolor": "white",
            "linecolor": "white",
            "ticks": ""
           },
           "bgcolor": "#E5ECF6",
           "radialaxis": {
            "gridcolor": "white",
            "linecolor": "white",
            "ticks": ""
           }
          },
          "scene": {
           "xaxis": {
            "backgroundcolor": "#E5ECF6",
            "gridcolor": "white",
            "gridwidth": 2,
            "linecolor": "white",
            "showbackground": true,
            "ticks": "",
            "zerolinecolor": "white"
           },
           "yaxis": {
            "backgroundcolor": "#E5ECF6",
            "gridcolor": "white",
            "gridwidth": 2,
            "linecolor": "white",
            "showbackground": true,
            "ticks": "",
            "zerolinecolor": "white"
           },
           "zaxis": {
            "backgroundcolor": "#E5ECF6",
            "gridcolor": "white",
            "gridwidth": 2,
            "linecolor": "white",
            "showbackground": true,
            "ticks": "",
            "zerolinecolor": "white"
           }
          },
          "shapedefaults": {
           "line": {
            "color": "#2a3f5f"
           }
          },
          "ternary": {
           "aaxis": {
            "gridcolor": "white",
            "linecolor": "white",
            "ticks": ""
           },
           "baxis": {
            "gridcolor": "white",
            "linecolor": "white",
            "ticks": ""
           },
           "bgcolor": "#E5ECF6",
           "caxis": {
            "gridcolor": "white",
            "linecolor": "white",
            "ticks": ""
           }
          },
          "title": {
           "x": 0.05
          },
          "xaxis": {
           "automargin": true,
           "gridcolor": "white",
           "linecolor": "white",
           "ticks": "",
           "title": {
            "standoff": 15
           },
           "zerolinecolor": "white",
           "zerolinewidth": 2
          },
          "yaxis": {
           "automargin": true,
           "gridcolor": "white",
           "linecolor": "white",
           "ticks": "",
           "title": {
            "standoff": 15
           },
           "zerolinecolor": "white",
           "zerolinewidth": 2
          }
         }
        },
        "title": {
         "text": "Rates of Blunders, Mistakes, and Inaccuracies by NiveauPartie"
        },
        "xaxis": {
         "anchor": "y",
         "domain": [
          0,
          1
         ],
         "title": {
          "text": "Niveau de Partie"
         }
        },
        "yaxis": {
         "anchor": "x",
         "domain": [
          0,
          1
         ],
         "title": {
          "text": "Rate"
         }
        }
       }
      }
     },
     "metadata": {},
     "output_type": "display_data"
    }
   ],
   "source": [
    "result_pandas = Q1.toPandas()\n",
    "\n",
    "# Créer le graphique avec Plotly\n",
    "fig = px.line(result_pandas, x='niveauPartie', \n",
    "              y=['Rate Blunder', 'Rate Mistake', 'Rate Inaccuracy'],\n",
    "              labels={'niveauPartie': 'Niveau de Partie', \n",
    "                      'value': 'Rate', \n",
    "                      'variable': 'Type d\\'Erreur'},\n",
    "              title='Rates of Blunders, Mistakes, and Inaccuracies by NiveauPartie')\n",
    "\n",
    "# Afficher le graphique\n",
    "fig.show()"
   ]
  },
  {
   "cell_type": "code",
   "execution_count": null,
   "metadata": {},
   "outputs": [],
   "source": []
  }
 ],
 "metadata": {
  "kernelspec": {
   "display_name": "Python 3",
   "language": "python",
   "name": "python3"
  },
  "language_info": {
   "codemirror_mode": {
    "name": "ipython",
    "version": 3
   },
   "file_extension": ".py",
   "mimetype": "text/x-python",
   "name": "python",
   "nbconvert_exporter": "python",
   "pygments_lexer": "ipython3",
   "version": "3.11.1"
  }
 },
 "nbformat": 4,
 "nbformat_minor": 2
}
